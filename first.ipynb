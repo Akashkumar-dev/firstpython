{
 "cells": [
  {
   "cell_type": "code",
   "execution_count": 1,
   "id": "918a2908-5671-4c0c-9a94-2f6dfc1b3b6b",
   "metadata": {},
   "outputs": [
    {
     "data": {
      "text/plain": [
       "2"
      ]
     },
     "execution_count": 1,
     "metadata": {},
     "output_type": "execute_result"
    }
   ],
   "source": [
    "1+1"
   ]
  },
  {
   "cell_type": "code",
   "execution_count": 2,
   "id": "5483d368-c02e-4c98-9e18-1f24a343cb27",
   "metadata": {},
   "outputs": [],
   "source": [
    "a= 10"
   ]
  },
  {
   "cell_type": "code",
   "execution_count": 3,
   "id": "1e353329-5ede-400b-9c81-8a535d6a1ad3",
   "metadata": {},
   "outputs": [
    {
     "data": {
      "text/plain": [
       "10"
      ]
     },
     "execution_count": 3,
     "metadata": {},
     "output_type": "execute_result"
    }
   ],
   "source": [
    "a\n"
   ]
  },
  {
   "cell_type": "code",
   "execution_count": 4,
   "id": "18dc0641-6a95-435b-b3df-9573cf6d52b1",
   "metadata": {},
   "outputs": [],
   "source": [
    "aksh= 20"
   ]
  },
  {
   "cell_type": "code",
   "execution_count": 5,
   "id": "9a1866b7-3287-47b1-aa0c-6108be03836f",
   "metadata": {},
   "outputs": [
    {
     "data": {
      "text/plain": [
       "20"
      ]
     },
     "execution_count": 5,
     "metadata": {},
     "output_type": "execute_result"
    }
   ],
   "source": [
    "aksh"
   ]
  },
  {
   "cell_type": "code",
   "execution_count": 6,
   "id": "b44909d3-55bb-4af2-8d75-993e9e9642fa",
   "metadata": {},
   "outputs": [
    {
     "data": {
      "text/plain": [
       "30"
      ]
     },
     "execution_count": 6,
     "metadata": {},
     "output_type": "execute_result"
    }
   ],
   "source": [
    "a + aksh"
   ]
  },
  {
   "cell_type": "code",
   "execution_count": 7,
   "id": "3d82a140-848b-4785-91dc-1762aea6c4fd",
   "metadata": {},
   "outputs": [
    {
     "data": {
      "text/plain": [
       "int"
      ]
     },
     "execution_count": 7,
     "metadata": {},
     "output_type": "execute_result"
    }
   ],
   "source": [
    "type(a)"
   ]
  },
  {
   "cell_type": "code",
   "execution_count": 8,
   "id": "43a734b2-29e1-4e4b-b780-92043ea9981a",
   "metadata": {},
   "outputs": [],
   "source": [
    "d = \"akash\""
   ]
  },
  {
   "cell_type": "code",
   "execution_count": 9,
   "id": "8fd47861-e3ea-4b1c-a32e-bd2cf0663a34",
   "metadata": {},
   "outputs": [
    {
     "data": {
      "text/plain": [
       "'akash'"
      ]
     },
     "execution_count": 9,
     "metadata": {},
     "output_type": "execute_result"
    }
   ],
   "source": [
    "d"
   ]
  },
  {
   "cell_type": "code",
   "execution_count": 10,
   "id": "768ff0fa-f636-4947-9a26-53e2e027d055",
   "metadata": {},
   "outputs": [
    {
     "data": {
      "text/plain": [
       "str"
      ]
     },
     "execution_count": 10,
     "metadata": {},
     "output_type": "execute_result"
    }
   ],
   "source": [
    "type(d)"
   ]
  },
  {
   "cell_type": "code",
   "execution_count": 11,
   "id": "b64e164c-d495-44f8-b1ac-523174265a09",
   "metadata": {},
   "outputs": [],
   "source": [
    "n = True"
   ]
  },
  {
   "cell_type": "code",
   "execution_count": 12,
   "id": "00ba95a8-1b61-41f5-a35e-706f10809399",
   "metadata": {},
   "outputs": [
    {
     "data": {
      "text/plain": [
       "True"
      ]
     },
     "execution_count": 12,
     "metadata": {},
     "output_type": "execute_result"
    }
   ],
   "source": [
    "n"
   ]
  },
  {
   "cell_type": "code",
   "execution_count": 13,
   "id": "73894a31-df4b-473d-88f1-ac76bd055291",
   "metadata": {},
   "outputs": [
    {
     "data": {
      "text/plain": [
       "bool"
      ]
     },
     "execution_count": 13,
     "metadata": {},
     "output_type": "execute_result"
    }
   ],
   "source": [
    "type(n)"
   ]
  },
  {
   "cell_type": "code",
   "execution_count": 14,
   "id": "0e260969-a1a3-4d85-b795-43afb24ebac6",
   "metadata": {},
   "outputs": [],
   "source": [
    "m = False"
   ]
  },
  {
   "cell_type": "code",
   "execution_count": 15,
   "id": "3191b07e-b919-4bf8-bb2d-889546173535",
   "metadata": {},
   "outputs": [
    {
     "data": {
      "text/plain": [
       "1"
      ]
     },
     "execution_count": 15,
     "metadata": {},
     "output_type": "execute_result"
    }
   ],
   "source": [
    "n+ m "
   ]
  },
  {
   "cell_type": "code",
   "execution_count": 16,
   "id": "e0cc432d-0ee5-4c0b-8974-c7bd3a12f5c6",
   "metadata": {},
   "outputs": [
    {
     "data": {
      "text/plain": [
       "1"
      ]
     },
     "execution_count": 16,
     "metadata": {},
     "output_type": "execute_result"
    }
   ],
   "source": [
    "n- m"
   ]
  },
  {
   "cell_type": "code",
   "execution_count": 17,
   "id": "0dbf1f6b-05cd-437a-9a1a-22800e126159",
   "metadata": {},
   "outputs": [
    {
     "data": {
      "text/plain": [
       "0"
      ]
     },
     "execution_count": 17,
     "metadata": {},
     "output_type": "execute_result"
    }
   ],
   "source": [
    "n*m"
   ]
  },
  {
   "cell_type": "code",
   "execution_count": 18,
   "id": "462508b3-e3ba-4a5a-8efe-44681a7a5685",
   "metadata": {},
   "outputs": [],
   "source": [
    "##n/m"
   ]
  },
  {
   "cell_type": "code",
   "execution_count": 19,
   "id": "9485a12e-a961-4cc6-907f-b76401638e64",
   "metadata": {},
   "outputs": [],
   "source": [
    "v = 8+ 5j"
   ]
  },
  {
   "cell_type": "code",
   "execution_count": 20,
   "id": "53bb754f-b695-4457-8500-60854adf549a",
   "metadata": {},
   "outputs": [
    {
     "data": {
      "text/plain": [
       "(8+5j)"
      ]
     },
     "execution_count": 20,
     "metadata": {},
     "output_type": "execute_result"
    }
   ],
   "source": [
    "v"
   ]
  },
  {
   "cell_type": "code",
   "execution_count": 21,
   "id": "5b79ab89-1345-4ca9-8ba7-62a439934c4e",
   "metadata": {},
   "outputs": [
    {
     "data": {
      "text/plain": [
       "complex"
      ]
     },
     "execution_count": 21,
     "metadata": {},
     "output_type": "execute_result"
    }
   ],
   "source": [
    "type(v)"
   ]
  },
  {
   "cell_type": "code",
   "execution_count": 22,
   "id": "87673742-3cca-4f80-b31b-8906d7826d45",
   "metadata": {},
   "outputs": [
    {
     "data": {
      "text/plain": [
       "8.0"
      ]
     },
     "execution_count": 22,
     "metadata": {},
     "output_type": "execute_result"
    }
   ],
   "source": [
    "v.real"
   ]
  },
  {
   "cell_type": "code",
   "execution_count": 23,
   "id": "062befbd-79d1-4e1f-9ceb-86d0ac386da3",
   "metadata": {},
   "outputs": [
    {
     "ename": "AttributeError",
     "evalue": "'complex' object has no attribute 'img'",
     "output_type": "error",
     "traceback": [
      "\u001b[0;31m---------------------------------------------------------------------------\u001b[0m",
      "\u001b[0;31mAttributeError\u001b[0m                            Traceback (most recent call last)",
      "Cell \u001b[0;32mIn[23], line 1\u001b[0m\n\u001b[0;32m----> 1\u001b[0m \u001b[43mv\u001b[49m\u001b[38;5;241;43m.\u001b[39;49m\u001b[43mimg\u001b[49m\n",
      "\u001b[0;31mAttributeError\u001b[0m: 'complex' object has no attribute 'img'"
     ]
    }
   ],
   "source": [
    "v.img"
   ]
  },
  {
   "cell_type": "code",
   "execution_count": null,
   "id": "88e41987-c2cd-4393-b8c2-e240f7fb0d25",
   "metadata": {},
   "outputs": [],
   "source": [
    "v.imag"
   ]
  },
  {
   "cell_type": "code",
   "execution_count": null,
   "id": "e6b4ef73-e7e7-4d41-beec-19365036be4f",
   "metadata": {},
   "outputs": [],
   "source": [
    "print(\"my name is akash\")"
   ]
  },
  {
   "cell_type": "code",
   "execution_count": null,
   "id": "1063069e-5bcd-4230-94ca-0157cd3c8e88",
   "metadata": {},
   "outputs": [],
   "source": [
    "print(aksh)"
   ]
  },
  {
   "cell_type": "code",
   "execution_count": null,
   "id": "ab590295-a96c-4414-bcce-aaeaaedfeb2b",
   "metadata": {},
   "outputs": [],
   "source": [
    "print(v)"
   ]
  },
  {
   "cell_type": "code",
   "execution_count": null,
   "id": "e794e82f-9680-435f-84ce-85719696f4a5",
   "metadata": {},
   "outputs": [],
   "source": [
    "print[v]"
   ]
  },
  {
   "cell_type": "code",
   "execution_count": null,
   "id": "cd19a3ac-8bb6-44ee-8cc1-ae23d5c218c8",
   "metadata": {},
   "outputs": [],
   "source": [
    "s = \"pwskills\""
   ]
  },
  {
   "cell_type": "code",
   "execution_count": null,
   "id": "f0b098b2-34b7-496f-9050-60413ce90af5",
   "metadata": {},
   "outputs": [],
   "source": [
    "type(s)"
   ]
  },
  {
   "cell_type": "code",
   "execution_count": null,
   "id": "d33162e2-0ce3-43ae-bde6-68b4c3e72cdc",
   "metadata": {},
   "outputs": [],
   "source": [
    "s[0]"
   ]
  },
  {
   "cell_type": "code",
   "execution_count": null,
   "id": "c566f71d-42c0-4781-8a3b-22d6e087ac98",
   "metadata": {},
   "outputs": [],
   "source": [
    "s[4]"
   ]
  },
  {
   "cell_type": "code",
   "execution_count": null,
   "id": "0195c145-4fa1-433c-ab31-fe6816eb5c33",
   "metadata": {},
   "outputs": [],
   "source": [
    "s[-1]"
   ]
  },
  {
   "cell_type": "code",
   "execution_count": null,
   "id": "5e362572-23dc-40db-b967-42d97033b94b",
   "metadata": {},
   "outputs": [],
   "source": [
    "s[-3]"
   ]
  },
  {
   "cell_type": "code",
   "execution_count": null,
   "id": "3fd6c092-d973-4c6b-928a-a8d102548eb5",
   "metadata": {},
   "outputs": [],
   "source": [
    "s[0:4]"
   ]
  },
  {
   "cell_type": "code",
   "execution_count": null,
   "id": "1f9d4990-23f5-4870-81a1-885f4dd0bc79",
   "metadata": {},
   "outputs": [],
   "source": [
    "s[0:7]"
   ]
  },
  {
   "cell_type": "code",
   "execution_count": null,
   "id": "8b5f90bb-24d4-494b-8632-00a7145b2e68",
   "metadata": {},
   "outputs": [],
   "source": [
    "s[0:8]\n"
   ]
  },
  {
   "cell_type": "code",
   "execution_count": null,
   "id": "4785ac0f-56fa-47dd-a4f9-38fb58eb3877",
   "metadata": {},
   "outputs": [],
   "source": [
    "s[0:8:2]"
   ]
  },
  {
   "cell_type": "code",
   "execution_count": null,
   "id": "32a52b97-081c-4a4d-b6ab-a769ded2fbb1",
   "metadata": {},
   "outputs": [],
   "source": [
    "s[::-1]"
   ]
  },
  {
   "cell_type": "code",
   "execution_count": null,
   "id": "281d3a20-3085-4499-9feb-4b5d636b49d6",
   "metadata": {},
   "outputs": [],
   "source": [
    "s[8:0:-1]"
   ]
  },
  {
   "cell_type": "code",
   "execution_count": null,
   "id": "a8ddf646-ff3e-41f3-b2f1-56031cc5a321",
   "metadata": {},
   "outputs": [],
   "source": [
    "s[8:-1:-1]"
   ]
  },
  {
   "cell_type": "code",
   "execution_count": null,
   "id": "47f43b67-9b47-42c2-878b-bc5e1b7d1f80",
   "metadata": {},
   "outputs": [],
   "source": []
  },
  {
   "cell_type": "code",
   "execution_count": null,
   "id": "3be0cc1f-4edb-4c1a-9de6-4835181de394",
   "metadata": {},
   "outputs": [],
   "source": [
    "s[0:-8:-1]\n"
   ]
  },
  {
   "cell_type": "code",
   "execution_count": null,
   "id": "a7abd21f-c3d0-4bdd-8423-c319a64e8d9b",
   "metadata": {},
   "outputs": [],
   "source": [
    "s[-1:-8:-1]"
   ]
  },
  {
   "cell_type": "code",
   "execution_count": null,
   "id": "4cf36b81-fef1-4650-a212-d6113c643bbe",
   "metadata": {},
   "outputs": [],
   "source": [
    "s[-1:-9:-1]"
   ]
  },
  {
   "cell_type": "code",
   "execution_count": null,
   "id": "057bae19-e065-4d70-8019-c82e182d526f",
   "metadata": {},
   "outputs": [],
   "source": [
    "s[9:0:-1]\n"
   ]
  },
  {
   "cell_type": "code",
   "execution_count": null,
   "id": "1085bef9-38c5-4721-a871-8d7e45107b82",
   "metadata": {},
   "outputs": [],
   "source": [
    "s[:-90:]"
   ]
  },
  {
   "cell_type": "code",
   "execution_count": null,
   "id": "c1989ab1-1fa0-41d1-b6dd-dffda291a916",
   "metadata": {},
   "outputs": [],
   "source": [
    "s[90]"
   ]
  },
  {
   "cell_type": "code",
   "execution_count": null,
   "id": "60df890a-bce5-4d8f-a8f4-11c568ef23c9",
   "metadata": {},
   "outputs": [],
   "source": [
    "s[:-90:-1]\n"
   ]
  },
  {
   "cell_type": "code",
   "execution_count": null,
   "id": "c9cc7fce-6350-49e2-8222-0f3b9890a2ff",
   "metadata": {},
   "outputs": [],
   "source": [
    "s[:90:1]"
   ]
  },
  {
   "cell_type": "code",
   "execution_count": null,
   "id": "17b97627-2ac3-45ee-b965-5aceb9eca1d0",
   "metadata": {},
   "outputs": [],
   "source": [
    "s1= \" this is my first class\""
   ]
  },
  {
   "cell_type": "code",
   "execution_count": null,
   "id": "6856467b-8468-4178-98e2-8e683aa4aedf",
   "metadata": {},
   "outputs": [],
   "source": [
    "len(s1)"
   ]
  },
  {
   "cell_type": "code",
   "execution_count": null,
   "id": "8a88ae01-4f09-4318-8b7e-060444bde39e",
   "metadata": {},
   "outputs": [],
   "source": [
    "s1.find(s)"
   ]
  },
  {
   "cell_type": "code",
   "execution_count": null,
   "id": "2a738d4c-3642-4d82-b136-2e073c088132",
   "metadata": {},
   "outputs": [],
   "source": [
    "s1.find(\"s\")"
   ]
  },
  {
   "cell_type": "code",
   "execution_count": null,
   "id": "db93b989-2283-42a4-a5f8-64d38db8a4c1",
   "metadata": {},
   "outputs": [],
   "source": [
    "s1.find(\"is\")"
   ]
  },
  {
   "cell_type": "code",
   "execution_count": null,
   "id": "78366c82-50d4-4169-8afd-69811906cdae",
   "metadata": {},
   "outputs": [],
   "source": [
    "s1.find(\"my\")"
   ]
  },
  {
   "cell_type": "code",
   "execution_count": null,
   "id": "3befc5c1-ee05-40bd-870e-ef9f974fbef3",
   "metadata": {},
   "outputs": [],
   "source": [
    "s1.count(\"s\")"
   ]
  },
  {
   "cell_type": "code",
   "execution_count": null,
   "id": "c17351d8-8c03-4f6a-abf3-f9a1fa142715",
   "metadata": {},
   "outputs": [],
   "source": [
    "s1.count(\"m\")"
   ]
  },
  {
   "cell_type": "code",
   "execution_count": null,
   "id": "18b6b7df-e9dc-43ed-920f-93d1077f594d",
   "metadata": {},
   "outputs": [],
   "source": [
    "s1.upper()"
   ]
  },
  {
   "cell_type": "code",
   "execution_count": null,
   "id": "363d5cb5-301a-403c-ba78-b1840d1da93f",
   "metadata": {},
   "outputs": [],
   "source": [
    "s2=\"THIS IS MACVHINE LEARNING CLASS\""
   ]
  },
  {
   "cell_type": "code",
   "execution_count": null,
   "id": "fa488d09-c8c9-4f61-a33b-32fc2691b58b",
   "metadata": {},
   "outputs": [],
   "source": [
    "s2\n"
   ]
  },
  {
   "cell_type": "code",
   "execution_count": null,
   "id": "c504e0df-6c1f-41af-a782-a425e1290731",
   "metadata": {},
   "outputs": [],
   "source": [
    "s2.lower()"
   ]
  },
  {
   "cell_type": "code",
   "execution_count": null,
   "id": "143ffab9-103f-45a0-8bb8-c6d341e729d9",
   "metadata": {},
   "outputs": [],
   "source": [
    "s1.title()"
   ]
  },
  {
   "cell_type": "code",
   "execution_count": null,
   "id": "a9762963-fd22-4f9f-97cc-da51413a59e9",
   "metadata": {},
   "outputs": [],
   "source": [
    "s1.capitalize()"
   ]
  },
  {
   "cell_type": "code",
   "execution_count": null,
   "id": "baf7915c-5169-4bde-8994-0f0131ce607a",
   "metadata": {},
   "outputs": [],
   "source": [
    "s1.capitalize()"
   ]
  },
  {
   "cell_type": "code",
   "execution_count": null,
   "id": "8345db95-9bab-445f-b0f9-f6c4cb421581",
   "metadata": {},
   "outputs": [],
   "source": [
    "s"
   ]
  },
  {
   "cell_type": "code",
   "execution_count": null,
   "id": "0f0f24b8-cff4-48cf-b4ce-8eb1f2d75992",
   "metadata": {},
   "outputs": [],
   "source": [
    "s+aksh"
   ]
  },
  {
   "cell_type": "code",
   "execution_count": null,
   "id": "a23750c7-976c-4eed-8aec-7e59ac01d130",
   "metadata": {},
   "outputs": [],
   "source": [
    "a + \"aksh\""
   ]
  },
  {
   "cell_type": "code",
   "execution_count": null,
   "id": "9fa1bf59-426e-4914-a032-28a85ab4560f",
   "metadata": {},
   "outputs": [],
   "source": [
    "a"
   ]
  },
  {
   "cell_type": "code",
   "execution_count": null,
   "id": "2dc87997-c35f-44e3-a678-75df76df59e3",
   "metadata": {},
   "outputs": [],
   "source": [
    "aksh"
   ]
  },
  {
   "cell_type": "code",
   "execution_count": null,
   "id": "d1b1586a-8b87-4ad1-99d7-2857ef255504",
   "metadata": {},
   "outputs": [],
   "source": [
    "\"a\" + \"aksh\""
   ]
  },
  {
   "cell_type": "code",
   "execution_count": null,
   "id": "7e314ff7-221f-4d81-a5f2-1ba9467c661d",
   "metadata": {},
   "outputs": [],
   "source": [
    "a + aksh"
   ]
  },
  {
   "cell_type": "code",
   "execution_count": null,
   "id": "379ace8b-ff80-4cbb-90d5-2899f96868cf",
   "metadata": {},
   "outputs": [],
   "source": [
    "s + \"akash\"\n"
   ]
  },
  {
   "cell_type": "code",
   "execution_count": null,
   "id": "5c4bd9ab-f3fe-4edd-8a9a-557e9646926e",
   "metadata": {},
   "outputs": [],
   "source": [
    "s*3"
   ]
  },
  {
   "cell_type": "code",
   "execution_count": null,
   "id": "a8d38a02-328e-4302-999b-8935f2117fa3",
   "metadata": {},
   "outputs": [],
   "source": [
    "\"akash\"*3\n"
   ]
  },
  {
   "cell_type": "code",
   "execution_count": null,
   "id": "c88a77fa-df7b-4a26-8bc7-34033e206061",
   "metadata": {},
   "outputs": [],
   "source": [
    "\"akash'/4\n"
   ]
  },
  {
   "cell_type": "code",
   "execution_count": null,
   "id": "5a7dca4a-3320-4f1f-abc3-9fa83b6a7b7f",
   "metadata": {},
   "outputs": [],
   "source": [
    "\"my name is akash'\n"
   ]
  },
  {
   "cell_type": "code",
   "execution_count": null,
   "id": "7aed3da5-240b-4ce4-8ae0-d98cfade4b4a",
   "metadata": {},
   "outputs": [],
   "source": [
    "\"my name is  akash\""
   ]
  },
  {
   "cell_type": "code",
   "execution_count": null,
   "id": "a62018d0-d6e2-485a-943b-0609b16fd893",
   "metadata": {},
   "outputs": [],
   "source": [
    "hello"
   ]
  },
  {
   "cell_type": "code",
   "execution_count": null,
   "id": "0b4ec783-0b4f-4bbe-8848-e515f5afb248",
   "metadata": {},
   "outputs": [],
   "source": [
    "s1"
   ]
  },
  {
   "cell_type": "code",
   "execution_count": null,
   "id": "d445ecad-3497-4e32-b671-ca9d59cbc242",
   "metadata": {},
   "outputs": [],
   "source": [
    "\"\"\"this is my second class of ai\\ml\n",
    "   i don't understand too much about it \n",
    "   but i want to learn this technology\"\"\""
   ]
  },
  {
   "cell_type": "code",
   "execution_count": null,
   "id": "93162bd4-711a-40b6-b203-34561efbf201",
   "metadata": {},
   "outputs": [],
   "source": [
    "#this is my second class of ai\\ml\n",
    " #  i don't understand too much about it \n",
    "  # but i want to learn this technolog"
   ]
  },
  {
   "cell_type": "code",
   "execution_count": null,
   "id": "f8a713ee-d2c9-44ef-a366-bcf2fbcbdfa4",
   "metadata": {},
   "outputs": [],
   "source": [
    "l= [1, \"akash\" , 325, 3.5 , True , 4+6j ]"
   ]
  },
  {
   "cell_type": "code",
   "execution_count": null,
   "id": "b8c43176-2b07-412e-adfd-47f7eee1db95",
   "metadata": {},
   "outputs": [],
   "source": [
    "l"
   ]
  },
  {
   "cell_type": "code",
   "execution_count": null,
   "id": "755b10b9-39dc-40df-b628-0fcce400c52a",
   "metadata": {},
   "outputs": [],
   "source": [
    "type(l)"
   ]
  },
  {
   "cell_type": "code",
   "execution_count": null,
   "id": "842d899c-453d-4deb-a6a2-bfc93b106782",
   "metadata": {},
   "outputs": [],
   "source": [
    "l[0]"
   ]
  },
  {
   "cell_type": "code",
   "execution_count": null,
   "id": "2960d9b6-f4f6-41e1-baf3-84550cf83b80",
   "metadata": {},
   "outputs": [],
   "source": [
    "l[5]"
   ]
  },
  {
   "cell_type": "code",
   "execution_count": null,
   "id": "22940412-edfb-44c1-995b-f3b9f011f227",
   "metadata": {},
   "outputs": [],
   "source": [
    "l[0:4]"
   ]
  },
  {
   "cell_type": "code",
   "execution_count": null,
   "id": "98042904-bfca-43fe-9ee7-27bcdcd1a891",
   "metadata": {},
   "outputs": [],
   "source": [
    "l[::-1]\n"
   ]
  },
  {
   "cell_type": "code",
   "execution_count": null,
   "id": "ac5ed131-565b-4ad3-ab07-29d2cf507cec",
   "metadata": {},
   "outputs": [],
   "source": [
    "l[::2]"
   ]
  },
  {
   "cell_type": "code",
   "execution_count": null,
   "id": "2dc79704-41e3-4ffe-b218-8ccc4e9a775a",
   "metadata": {},
   "outputs": [],
   "source": [
    "s= \"pwskills\""
   ]
  },
  {
   "cell_type": "code",
   "execution_count": null,
   "id": "0bacd1f0-1cb1-4ed0-9c92-805ec107bbc7",
   "metadata": {},
   "outputs": [],
   "source": [
    "s"
   ]
  },
  {
   "cell_type": "code",
   "execution_count": null,
   "id": "ef956ecd-54c3-433a-b82a-0bde47e991af",
   "metadata": {},
   "outputs": [],
   "source": [
    "l +s "
   ]
  },
  {
   "cell_type": "code",
   "execution_count": null,
   "id": "d9a53eec-20b4-4122-9666-d9577361702d",
   "metadata": {},
   "outputs": [],
   "source": [
    "list(s)"
   ]
  },
  {
   "cell_type": "code",
   "execution_count": null,
   "id": "a5ccbe1f-5e10-4d21-a82f-f0c7f3acd29b",
   "metadata": {},
   "outputs": [],
   "source": [
    "l + s"
   ]
  },
  {
   "cell_type": "code",
   "execution_count": null,
   "id": "9c6f894c-b8a7-4cd4-a796-47b6fdceab44",
   "metadata": {},
   "outputs": [],
   "source": [
    "l + list(s)\n"
   ]
  },
  {
   "cell_type": "code",
   "execution_count": null,
   "id": "a5f439d3-dbe6-476f-a56b-b4ae5ca9e6e2",
   "metadata": {},
   "outputs": [],
   "source": [
    "type(l[3])"
   ]
  },
  {
   "cell_type": "code",
   "execution_count": null,
   "id": "40a7a414-2898-4c21-814f-feff953f35b5",
   "metadata": {},
   "outputs": [],
   "source": [
    "l"
   ]
  },
  {
   "cell_type": "code",
   "execution_count": null,
   "id": "02d6473b-9247-42f6-9139-bfd9d2c43f12",
   "metadata": {},
   "outputs": [],
   "source": [
    "l[1][0:2]"
   ]
  },
  {
   "cell_type": "code",
   "execution_count": null,
   "id": "44a82f7e-ac9e-40ed-882e-16422474f7a2",
   "metadata": {},
   "outputs": [],
   "source": [
    "l[4]"
   ]
  },
  {
   "cell_type": "code",
   "execution_count": null,
   "id": "874b2c18-3fe2-48ce-acf0-24feba6bb0e2",
   "metadata": {},
   "outputs": [],
   "source": [
    "str(l[4])[0:2]"
   ]
  },
  {
   "cell_type": "code",
   "execution_count": null,
   "id": "28796783-87ae-4b94-bc5f-dd344e85eae0",
   "metadata": {},
   "outputs": [],
   "source": [
    "m=[2, 3, 4]"
   ]
  },
  {
   "cell_type": "code",
   "execution_count": null,
   "id": "9cd27d72-8567-454b-b0d2-751f4f4a139e",
   "metadata": {},
   "outputs": [],
   "source": [
    "m"
   ]
  },
  {
   "cell_type": "code",
   "execution_count": null,
   "id": "2240c105-8d3f-4354-b2cd-3f7f761e81df",
   "metadata": {},
   "outputs": [],
   "source": [
    "l + m"
   ]
  },
  {
   "cell_type": "code",
   "execution_count": null,
   "id": "c30e6d66-12e1-4ada-8661-bcb15a66d910",
   "metadata": {},
   "outputs": [],
   "source": [
    "m*3"
   ]
  },
  {
   "cell_type": "code",
   "execution_count": null,
   "id": "2671fe14-2447-407a-b511-47e63222996b",
   "metadata": {},
   "outputs": [],
   "source": [
    "len(l)\n"
   ]
  },
  {
   "cell_type": "code",
   "execution_count": null,
   "id": "e992b046-cdb1-4e67-add0-f2754d1facd7",
   "metadata": {},
   "outputs": [],
   "source": [
    "len(m)\n"
   ]
  },
  {
   "cell_type": "code",
   "execution_count": null,
   "id": "85fce549-9cef-4709-8d0a-1a5032cee571",
   "metadata": {},
   "outputs": [],
   "source": [
    "l.append(8)\n"
   ]
  },
  {
   "cell_type": "code",
   "execution_count": null,
   "id": "e2f29ee8-1227-4f3a-accc-ecccd14840e3",
   "metadata": {},
   "outputs": [],
   "source": [
    "l"
   ]
  },
  {
   "cell_type": "code",
   "execution_count": null,
   "id": "2ca9dc6f-3b86-40f2-b293-025d8d05fabf",
   "metadata": {},
   "outputs": [],
   "source": [
    "l.append(s)\n",
    "\n"
   ]
  },
  {
   "cell_type": "code",
   "execution_count": null,
   "id": "7d58c3cb-8363-44ef-b1d1-cecda976e990",
   "metadata": {},
   "outputs": [],
   "source": [
    "l"
   ]
  },
  {
   "cell_type": "code",
   "execution_count": null,
   "id": "172630d5-de87-4322-b0f1-04895c0b1872",
   "metadata": {},
   "outputs": [],
   "source": [
    "l.append(m)"
   ]
  },
  {
   "cell_type": "code",
   "execution_count": null,
   "id": "0c07285a-b1e6-4599-abbe-6b53ecbb2491",
   "metadata": {},
   "outputs": [],
   "source": [
    "l"
   ]
  },
  {
   "cell_type": "code",
   "execution_count": null,
   "id": "c9ae1cf7-1cb4-4563-9995-d6b9a1d0efe8",
   "metadata": {},
   "outputs": [],
   "source": [
    "l[-1][1]"
   ]
  },
  {
   "cell_type": "code",
   "execution_count": null,
   "id": "48c1ba6b-a266-4996-9dc4-fdabb7105b44",
   "metadata": {},
   "outputs": [],
   "source": [
    "l.extend(4)"
   ]
  },
  {
   "cell_type": "code",
   "execution_count": null,
   "id": "4b98f88c-5610-428f-ae42-cdd495aaa258",
   "metadata": {},
   "outputs": [],
   "source": [
    "l.extend(\"akash\")"
   ]
  },
  {
   "cell_type": "code",
   "execution_count": null,
   "id": "1ebf21cb-6079-494b-b9a7-f0f1d8c02153",
   "metadata": {},
   "outputs": [],
   "source": [
    "l\n",
    "\n"
   ]
  },
  {
   "cell_type": "code",
   "execution_count": null,
   "id": "5fdc512f-8fb8-48f6-9ea2-97df4dbb945c",
   "metadata": {},
   "outputs": [],
   "source": [
    "m"
   ]
  },
  {
   "cell_type": "code",
   "execution_count": null,
   "id": "8ad5a340-30ff-43cc-8e40-568bacb9d8a2",
   "metadata": {},
   "outputs": [],
   "source": [
    "m.insert(1 , \"akash\")"
   ]
  },
  {
   "cell_type": "code",
   "execution_count": null,
   "id": "98c81ee4-a517-4ef4-9807-62a00174b311",
   "metadata": {},
   "outputs": [],
   "source": [
    "m"
   ]
  },
  {
   "cell_type": "code",
   "execution_count": null,
   "id": "25e68dd9-083f-49c2-9e77-751181450a33",
   "metadata": {},
   "outputs": [],
   "source": [
    "m.insert( 2,[0,4,8])"
   ]
  },
  {
   "cell_type": "code",
   "execution_count": null,
   "id": "c0992b6a-726e-4239-864e-c9811f70a413",
   "metadata": {},
   "outputs": [],
   "source": [
    "m"
   ]
  },
  {
   "cell_type": "code",
   "execution_count": null,
   "id": "2437f6cb-4140-47cf-8e4b-2702e3acd340",
   "metadata": {},
   "outputs": [],
   "source": [
    "m.insert(-1, 46)"
   ]
  },
  {
   "cell_type": "code",
   "execution_count": null,
   "id": "523fdec0-1991-4a9e-9179-525816f1d539",
   "metadata": {},
   "outputs": [],
   "source": [
    "m\n"
   ]
  },
  {
   "cell_type": "code",
   "execution_count": null,
   "id": "61b963ef-bffb-42bc-ade4-82aa6a11e0dd",
   "metadata": {},
   "outputs": [],
   "source": [
    "m.insert(0,4)\n"
   ]
  },
  {
   "cell_type": "code",
   "execution_count": null,
   "id": "692d4ea8-420c-40a5-9845-1c295144de37",
   "metadata": {},
   "outputs": [],
   "source": [
    "m"
   ]
  },
  {
   "cell_type": "code",
   "execution_count": null,
   "id": "0c079b38-7ca2-419c-af7f-af2cbeda18d8",
   "metadata": {},
   "outputs": [],
   "source": [
    "m.pop()"
   ]
  },
  {
   "cell_type": "code",
   "execution_count": null,
   "id": "b86cc5de-3ad7-4612-8eb7-b52a96e21434",
   "metadata": {},
   "outputs": [],
   "source": [
    "m"
   ]
  },
  {
   "cell_type": "code",
   "execution_count": null,
   "id": "4d6e5974-f946-4982-810e-af81e34ead98",
   "metadata": {},
   "outputs": [],
   "source": [
    "m[4*2]"
   ]
  },
  {
   "cell_type": "code",
   "execution_count": null,
   "id": "daa8308d-1ca6-48b9-9262-6f98677234d2",
   "metadata": {},
   "outputs": [],
   "source": [
    "m.pop(3)\n"
   ]
  },
  {
   "cell_type": "code",
   "execution_count": null,
   "id": "edf38ea0-e4fb-4996-ade9-f313bf503ac3",
   "metadata": {},
   "outputs": [],
   "source": [
    "m\n"
   ]
  },
  {
   "cell_type": "code",
   "execution_count": null,
   "id": "b2cc439c-aeeb-4431-a14e-a76566920a39",
   "metadata": {},
   "outputs": [],
   "source": [
    "m.remove(3)"
   ]
  },
  {
   "cell_type": "code",
   "execution_count": null,
   "id": "58ee35f3-8e48-449a-a18b-d8a851e0b256",
   "metadata": {},
   "outputs": [],
   "source": [
    "m"
   ]
  },
  {
   "cell_type": "code",
   "execution_count": null,
   "id": "6d167c35-03a6-404a-977c-96a3a526fdbf",
   "metadata": {},
   "outputs": [],
   "source": [
    "m(44240)"
   ]
  },
  {
   "cell_type": "code",
   "execution_count": null,
   "id": "d1cfe7f4-8e3b-40d1-a95d-9a79f780f521",
   "metadata": {},
   "outputs": [],
   "source": [
    "m.insert( 2,[0,4,8])"
   ]
  },
  {
   "cell_type": "code",
   "execution_count": null,
   "id": "0d5abbbe-44ad-4ba7-a6ef-92ddff8bbfeb",
   "metadata": {},
   "outputs": [],
   "source": [
    "m"
   ]
  },
  {
   "cell_type": "code",
   "execution_count": null,
   "id": "bca5cda7-335c-4334-89e8-15abe8caecfb",
   "metadata": {},
   "outputs": [],
   "source": [
    "m[2].remove(4)"
   ]
  },
  {
   "cell_type": "code",
   "execution_count": null,
   "id": "9272a4d0-a092-4709-a8cc-c1df8e6589cb",
   "metadata": {},
   "outputs": [],
   "source": [
    "m"
   ]
  },
  {
   "cell_type": "code",
   "execution_count": null,
   "id": "afb4e5cd-f9c8-4a6f-9445-5a90165b6e68",
   "metadata": {},
   "outputs": [],
   "source": [
    "m.append(4)"
   ]
  },
  {
   "cell_type": "code",
   "execution_count": null,
   "id": "8a90247f-7c6f-45bf-9569-4474869819d2",
   "metadata": {},
   "outputs": [],
   "source": [
    "m"
   ]
  },
  {
   "cell_type": "code",
   "execution_count": null,
   "id": "67d550c7-0074-4085-b556-c020032afcc6",
   "metadata": {},
   "outputs": [],
   "source": [
    "m.remove(4)"
   ]
  },
  {
   "cell_type": "code",
   "execution_count": null,
   "id": "bb3d78d0-e403-47e9-95f9-96c464b6d12a",
   "metadata": {},
   "outputs": [],
   "source": [
    "m"
   ]
  },
  {
   "cell_type": "code",
   "execution_count": null,
   "id": "c41a026d-89ea-4a22-9566-65c3d90e124b",
   "metadata": {},
   "outputs": [],
   "source": [
    "m[::-1]"
   ]
  },
  {
   "cell_type": "code",
   "execution_count": null,
   "id": "db605bf0-49b5-4429-a746-4624437e6a54",
   "metadata": {},
   "outputs": [],
   "source": [
    "m.reverse()"
   ]
  },
  {
   "cell_type": "code",
   "execution_count": null,
   "id": "ece352e2-1b86-4768-a764-9a1a63869800",
   "metadata": {},
   "outputs": [],
   "source": [
    "m"
   ]
  },
  {
   "cell_type": "code",
   "execution_count": null,
   "id": "2fa9bc12-f3e8-44e0-8fcc-e24f2fdf3760",
   "metadata": {},
   "outputs": [],
   "source": [
    "n=[3 , 2 , 5, 6, 1, 9]\n"
   ]
  },
  {
   "cell_type": "code",
   "execution_count": null,
   "id": "49b1d1b7-cdce-4d9a-a1ba-5f69db089cff",
   "metadata": {},
   "outputs": [],
   "source": [
    "n"
   ]
  },
  {
   "cell_type": "code",
   "execution_count": null,
   "id": "8b60fe04-ac62-40c1-989a-193d6b200c42",
   "metadata": {},
   "outputs": [],
   "source": [
    "n.sort()"
   ]
  },
  {
   "cell_type": "code",
   "execution_count": null,
   "id": "0fb04f04-7ffc-4ac6-97c0-cfa639f6da5f",
   "metadata": {},
   "outputs": [],
   "source": [
    "n"
   ]
  },
  {
   "cell_type": "code",
   "execution_count": null,
   "id": "cc018024-6a50-48a5-b0ac-8adb63a3a388",
   "metadata": {},
   "outputs": [],
   "source": [
    "n"
   ]
  },
  {
   "cell_type": "code",
   "execution_count": null,
   "id": "e9398fbd-302d-46fe-84e2-25fcc73e17df",
   "metadata": {},
   "outputs": [],
   "source": [
    "m= [4, 2, 'akash', [0, 4, 8], 3, 46, 4]"
   ]
  },
  {
   "cell_type": "code",
   "execution_count": null,
   "id": "fc9f948b-cad7-4a30-aa93-944b089db0af",
   "metadata": {},
   "outputs": [],
   "source": [
    "m"
   ]
  },
  {
   "cell_type": "code",
   "execution_count": null,
   "id": "68aed332-b963-4e9e-bdd8-545ad219f893",
   "metadata": {},
   "outputs": [],
   "source": [
    "l2= [24,35,4,3,34,96,1]"
   ]
  },
  {
   "cell_type": "code",
   "execution_count": null,
   "id": "f7d19975-184c-4d59-8c63-1536b6a8491d",
   "metadata": {},
   "outputs": [],
   "source": [
    "l2.sort()"
   ]
  },
  {
   "cell_type": "code",
   "execution_count": null,
   "id": "750b457e-bbe8-4b95-b995-c11350aff4ab",
   "metadata": {},
   "outputs": [],
   "source": [
    "l2"
   ]
  },
  {
   "cell_type": "code",
   "execution_count": null,
   "id": "3055783f-c44d-4a2d-aa78-daed6a5f09e8",
   "metadata": {},
   "outputs": [],
   "source": [
    "l3=[1, 3.0, \"akash\"]"
   ]
  },
  {
   "cell_type": "code",
   "execution_count": null,
   "id": "9dda1402-6c82-41d3-a2b2-4aae2e09c8f7",
   "metadata": {},
   "outputs": [],
   "source": [
    "l3.sort()"
   ]
  },
  {
   "cell_type": "code",
   "execution_count": null,
   "id": "4bee5bed-d25e-4344-96a1-c610bd021e69",
   "metadata": {},
   "outputs": [],
   "source": [
    "l4 = [ \"deer\" ,\"beer\" , \"elephant\" , \"monkey\", \"zebra\" , \"tiger\" , \" lion\"]\n"
   ]
  },
  {
   "cell_type": "code",
   "execution_count": null,
   "id": "461c798e-f271-4ec6-a270-19c3ec1db7ad",
   "metadata": {},
   "outputs": [],
   "source": [
    "l4.sort()"
   ]
  },
  {
   "cell_type": "code",
   "execution_count": null,
   "id": "00023478-84f8-4c4f-87ba-8f4420bbc020",
   "metadata": {},
   "outputs": [],
   "source": [
    "l4"
   ]
  },
  {
   "cell_type": "code",
   "execution_count": null,
   "id": "6abf450e-cfc2-43ad-beba-aea808a55c34",
   "metadata": {},
   "outputs": [],
   "source": [
    "l4.index(\"elephant\")\n"
   ]
  },
  {
   "cell_type": "code",
   "execution_count": null,
   "id": "08766ee6-e873-4dcc-a91d-91b5e391f9cc",
   "metadata": {},
   "outputs": [],
   "source": [
    "l4.count(\"monkey\")"
   ]
  },
  {
   "cell_type": "code",
   "execution_count": null,
   "id": "7685e34c-f4e1-49c5-b349-51d7d7be4e01",
   "metadata": {},
   "outputs": [],
   "source": [
    "s= \"sudh\""
   ]
  },
  {
   "cell_type": "code",
   "execution_count": null,
   "id": "0a1a2b75-41a7-4932-8020-8212967dfbb2",
   "metadata": {},
   "outputs": [],
   "source": [
    "l5= [3,4,5]"
   ]
  },
  {
   "cell_type": "code",
   "execution_count": null,
   "id": "6e1c529d-1571-4f31-85b4-2aad0932bbed",
   "metadata": {},
   "outputs": [],
   "source": [
    "s[0]"
   ]
  },
  {
   "cell_type": "code",
   "execution_count": null,
   "id": "afd6c111-c85d-4207-b40d-4813faddd74c",
   "metadata": {},
   "outputs": [],
   "source": [
    "s[0] = \"a\""
   ]
  },
  {
   "cell_type": "code",
   "execution_count": null,
   "id": "90325e88-17e0-45e6-a9f5-737842f381d2",
   "metadata": {},
   "outputs": [],
   "source": [
    "l5[0] = 50"
   ]
  },
  {
   "cell_type": "code",
   "execution_count": null,
   "id": "a7f34f6d-7b6b-44d7-aefc-e09d92d38115",
   "metadata": {},
   "outputs": [],
   "source": [
    "l5"
   ]
  },
  {
   "cell_type": "code",
   "execution_count": null,
   "id": "a0538fba-9043-4e61-ada5-47eae6de4d96",
   "metadata": {},
   "outputs": [],
   "source": [
    "s.replace('s' , 'a')"
   ]
  },
  {
   "cell_type": "code",
   "execution_count": null,
   "id": "d7349085-ac47-4531-9bba-fc15203fba2c",
   "metadata": {},
   "outputs": [],
   "source": [
    "s"
   ]
  },
  {
   "cell_type": "code",
   "execution_count": null,
   "id": "f28240cc-9fbf-4c78-ad47-91dafd2d365e",
   "metadata": {},
   "outputs": [],
   "source": [
    "s"
   ]
  },
  {
   "cell_type": "code",
   "execution_count": null,
   "id": "796b7dfd-03df-4494-98a6-35b19f206ab2",
   "metadata": {},
   "outputs": [],
   "source": []
  },
  {
   "cell_type": "code",
   "execution_count": 25,
   "id": "c1569d8f-886d-4801-a255-068e30ef31b7",
   "metadata": {},
   "outputs": [],
   "source": [
    "t = (2, 3, 4 , 5 , \"sudh\" , 45, 56, False , 45+6j , [3, 4, 5])"
   ]
  },
  {
   "cell_type": "code",
   "execution_count": 26,
   "id": "f825d618-17bd-4e4c-924c-33e909a186bd",
   "metadata": {},
   "outputs": [
    {
     "data": {
      "text/plain": [
       "(2, 3, 4, 5, 'sudh', 45, 56, False, (45+6j), [3, 4, 5])"
      ]
     },
     "execution_count": 26,
     "metadata": {},
     "output_type": "execute_result"
    }
   ],
   "source": [
    "t"
   ]
  },
  {
   "cell_type": "code",
   "execution_count": 27,
   "id": "a92b33ea-21e8-4bde-b9a7-fb6eea160c60",
   "metadata": {},
   "outputs": [
    {
     "data": {
      "text/plain": [
       "tuple"
      ]
     },
     "execution_count": 27,
     "metadata": {},
     "output_type": "execute_result"
    }
   ],
   "source": [
    "type(t)"
   ]
  },
  {
   "cell_type": "code",
   "execution_count": 28,
   "id": "ad8f9899-f72b-4345-a2e5-d7b38466d791",
   "metadata": {},
   "outputs": [
    {
     "data": {
      "text/plain": [
       "10"
      ]
     },
     "execution_count": 28,
     "metadata": {},
     "output_type": "execute_result"
    }
   ],
   "source": [
    "len(t)"
   ]
  },
  {
   "cell_type": "code",
   "execution_count": 29,
   "id": "79184b5b-ec45-4308-b837-606162529cbd",
   "metadata": {},
   "outputs": [
    {
     "data": {
      "text/plain": [
       "2"
      ]
     },
     "execution_count": 29,
     "metadata": {},
     "output_type": "execute_result"
    }
   ],
   "source": [
    "t[0]"
   ]
  },
  {
   "cell_type": "code",
   "execution_count": 30,
   "id": "9437f115-2499-4f99-a86f-caab1f1b66d6",
   "metadata": {},
   "outputs": [
    {
     "data": {
      "text/plain": [
       "[3, 4, 5]"
      ]
     },
     "execution_count": 30,
     "metadata": {},
     "output_type": "execute_result"
    }
   ],
   "source": [
    "t[-1]"
   ]
  },
  {
   "cell_type": "code",
   "execution_count": 31,
   "id": "75e4854a-ba55-415b-b4a6-994cb8894927",
   "metadata": {},
   "outputs": [
    {
     "data": {
      "text/plain": [
       "([3, 4, 5], (45+6j), False, 56, 45, 'sudh', 5, 4, 3, 2)"
      ]
     },
     "execution_count": 31,
     "metadata": {},
     "output_type": "execute_result"
    }
   ],
   "source": [
    "t[::-1]"
   ]
  },
  {
   "cell_type": "code",
   "execution_count": 32,
   "id": "4cceb861-dba2-44d8-9d45-e0a6c8a25d62",
   "metadata": {},
   "outputs": [],
   "source": [
    "l4 = [ \"deer\" ,\"beer\" , \"elephant\" , \"monkey\", \"zebra\" , \"tiger\" , \" lion\"]\n"
   ]
  },
  {
   "cell_type": "code",
   "execution_count": 33,
   "id": "51c14724-f8a5-4c54-a6d3-2746c48dcd86",
   "metadata": {},
   "outputs": [
    {
     "data": {
      "text/plain": [
       "['deer', 'beer', 'elephant', 'monkey', 'zebra', 'tiger', ' lion']"
      ]
     },
     "execution_count": 33,
     "metadata": {},
     "output_type": "execute_result"
    }
   ],
   "source": [
    "l4"
   ]
  },
  {
   "cell_type": "code",
   "execution_count": 34,
   "id": "8fcbad6d-c211-4d6a-92eb-32078beb075d",
   "metadata": {},
   "outputs": [],
   "source": [
    "l4[0] = 24554"
   ]
  },
  {
   "cell_type": "code",
   "execution_count": 35,
   "id": "7f2f55c8-e1d7-4a05-acca-e47191035a37",
   "metadata": {},
   "outputs": [
    {
     "data": {
      "text/plain": [
       "[24554, 'beer', 'elephant', 'monkey', 'zebra', 'tiger', ' lion']"
      ]
     },
     "execution_count": 35,
     "metadata": {},
     "output_type": "execute_result"
    }
   ],
   "source": [
    "l4"
   ]
  },
  {
   "cell_type": "code",
   "execution_count": 36,
   "id": "f6c9fa07-ffab-4b3b-938e-3adde9a7ece4",
   "metadata": {},
   "outputs": [
    {
     "data": {
      "text/plain": [
       "(2, 3, 4, 5, 'sudh', 45, 56, False, (45+6j), [3, 4, 5])"
      ]
     },
     "execution_count": 36,
     "metadata": {},
     "output_type": "execute_result"
    }
   ],
   "source": [
    "t"
   ]
  },
  {
   "cell_type": "code",
   "execution_count": 37,
   "id": "da15d690-3062-48de-8f1c-bb31a88801ef",
   "metadata": {},
   "outputs": [
    {
     "ename": "TypeError",
     "evalue": "'tuple' object does not support item assignment",
     "output_type": "error",
     "traceback": [
      "\u001b[0;31m---------------------------------------------------------------------------\u001b[0m",
      "\u001b[0;31mTypeError\u001b[0m                                 Traceback (most recent call last)",
      "Cell \u001b[0;32mIn[37], line 1\u001b[0m\n\u001b[0;32m----> 1\u001b[0m \u001b[43mt\u001b[49m\u001b[43m[\u001b[49m\u001b[38;5;241;43m0\u001b[39;49m\u001b[43m]\u001b[49m \u001b[38;5;241m=\u001b[39m \u001b[38;5;124m\"\u001b[39m\u001b[38;5;124msudh\u001b[39m\u001b[38;5;124m\"\u001b[39m\n",
      "\u001b[0;31mTypeError\u001b[0m: 'tuple' object does not support item assignment"
     ]
    }
   ],
   "source": [
    "t[0] = \"sudh\""
   ]
  },
  {
   "cell_type": "code",
   "execution_count": 38,
   "id": "6c2073f3-1a13-443d-bd36-69de6c426448",
   "metadata": {},
   "outputs": [
    {
     "data": {
      "text/plain": [
       "([3, 4, 5], (45+6j), False, 56, 45, 'sudh', 5, 4, 3, 2)"
      ]
     },
     "execution_count": 38,
     "metadata": {},
     "output_type": "execute_result"
    }
   ],
   "source": [
    "t[::-1]"
   ]
  },
  {
   "cell_type": "code",
   "execution_count": 39,
   "id": "8587cb21-ad63-4e4d-af29-304fe325d97d",
   "metadata": {},
   "outputs": [
    {
     "data": {
      "text/plain": [
       "0"
      ]
     },
     "execution_count": 39,
     "metadata": {},
     "output_type": "execute_result"
    }
   ],
   "source": [
    "t.count(50)"
   ]
  },
  {
   "cell_type": "code",
   "execution_count": 40,
   "id": "c6919800-7dfe-4488-90ca-9f4795aa83d9",
   "metadata": {},
   "outputs": [
    {
     "data": {
      "text/plain": [
       "7"
      ]
     },
     "execution_count": 40,
     "metadata": {},
     "output_type": "execute_result"
    }
   ],
   "source": [
    "t.index(False)"
   ]
  },
  {
   "cell_type": "code",
   "execution_count": 41,
   "id": "dcdc865f-6bbd-4568-b2c6-e4ac60ba96b3",
   "metadata": {},
   "outputs": [
    {
     "data": {
      "text/plain": [
       "(2, 3, 4, 5, 'sudh', 45, 56, False, (45+6j), [3, 4, 5])"
      ]
     },
     "execution_count": 41,
     "metadata": {},
     "output_type": "execute_result"
    }
   ],
   "source": [
    "t"
   ]
  },
  {
   "cell_type": "code",
   "execution_count": 42,
   "id": "1f532364-d9e7-443a-b743-5560756aa910",
   "metadata": {},
   "outputs": [],
   "source": [
    "s1= {}"
   ]
  },
  {
   "cell_type": "code",
   "execution_count": 44,
   "id": "3f4d666b-f66b-4cfa-bb9a-3a752d534acd",
   "metadata": {},
   "outputs": [
    {
     "data": {
      "text/plain": [
       "dict"
      ]
     },
     "execution_count": 44,
     "metadata": {},
     "output_type": "execute_result"
    }
   ],
   "source": [
    "type(s1)"
   ]
  },
  {
   "cell_type": "code",
   "execution_count": 45,
   "id": "37add7d0-b353-44e4-a856-b81ae142b37a",
   "metadata": {},
   "outputs": [],
   "source": [
    "s2 = {2, 3, 4, 55,6}"
   ]
  },
  {
   "cell_type": "code",
   "execution_count": 46,
   "id": "9b389c83-0488-40ba-a4ec-9383e4215e8b",
   "metadata": {},
   "outputs": [
    {
     "data": {
      "text/plain": [
       "set"
      ]
     },
     "execution_count": 46,
     "metadata": {},
     "output_type": "execute_result"
    }
   ],
   "source": [
    "type(s2)"
   ]
  },
  {
   "cell_type": "code",
   "execution_count": 52,
   "id": "9b2c9660-2ab5-4def-918e-a0a29c21aa83",
   "metadata": {},
   "outputs": [],
   "source": [
    "s3 = { 324 , 456, 436, \"sudh \" , 45+ 8j , 4.89, (2 , 3 , 4)}"
   ]
  },
  {
   "cell_type": "code",
   "execution_count": 53,
   "id": "daa2d6e5-7978-48cf-a2cd-079d327529fa",
   "metadata": {},
   "outputs": [
    {
     "data": {
      "text/plain": [
       "{(2, 3, 4), (45+8j), 324, 4.89, 436, 456, 'sudh '}"
      ]
     },
     "execution_count": 53,
     "metadata": {},
     "output_type": "execute_result"
    }
   ],
   "source": [
    "s3"
   ]
  },
  {
   "cell_type": "code",
   "execution_count": 54,
   "id": "eede119f-e9bf-4ebc-be3e-23221d1686a6",
   "metadata": {},
   "outputs": [
    {
     "data": {
      "text/plain": [
       "set"
      ]
     },
     "execution_count": 54,
     "metadata": {},
     "output_type": "execute_result"
    }
   ],
   "source": [
    "type(s3)"
   ]
  },
  {
   "cell_type": "code",
   "execution_count": 56,
   "id": "cf4e3c0e-1ada-4d50-ba98-94131c8b5f4d",
   "metadata": {},
   "outputs": [],
   "source": [
    "s4 = { 2 , 3 ,4, 5 , 6, 2 , 2, 3, 4, 5, 2,3,4 ,1, 2, 3,4, 5, 6, 3,6}"
   ]
  },
  {
   "cell_type": "code",
   "execution_count": 57,
   "id": "f507fae3-8189-458a-b037-aa4d117159b1",
   "metadata": {},
   "outputs": [
    {
     "data": {
      "text/plain": [
       "{1, 2, 3, 4, 5, 6}"
      ]
     },
     "execution_count": 57,
     "metadata": {},
     "output_type": "execute_result"
    }
   ],
   "source": [
    "s4"
   ]
  },
  {
   "cell_type": "code",
   "execution_count": 58,
   "id": "feeb6f12-a52c-4986-bd20-436d81ef9789",
   "metadata": {},
   "outputs": [],
   "source": [
    "s4 = { 2 , 3 ,4, 5 , 6, 2 , 2, 3, 4, 5, 2,3,4 ,1, 2, 3,4, 5, 6, 3,6,\"akash\", \"sudh\"}"
   ]
  },
  {
   "cell_type": "code",
   "execution_count": 59,
   "id": "fdef0c6f-446e-42c9-8cd6-2626af86eada",
   "metadata": {},
   "outputs": [
    {
     "data": {
      "text/plain": [
       "{1, 2, 3, 4, 5, 6, 'akash', 'sudh'}"
      ]
     },
     "execution_count": 59,
     "metadata": {},
     "output_type": "execute_result"
    }
   ],
   "source": [
    "s4"
   ]
  },
  {
   "cell_type": "code",
   "execution_count": 62,
   "id": "82a0fe65-f936-4d1f-b18e-915ed4865784",
   "metadata": {},
   "outputs": [
    {
     "ename": "TypeError",
     "evalue": "'int' object is not iterable",
     "output_type": "error",
     "traceback": [
      "\u001b[0;31m---------------------------------------------------------------------------\u001b[0m",
      "\u001b[0;31mTypeError\u001b[0m                                 Traceback (most recent call last)",
      "Cell \u001b[0;32mIn[62], line 1\u001b[0m\n\u001b[0;32m----> 1\u001b[0m s4 \u001b[38;5;241m=\u001b[39m \u001b[38;5;28;43mset\u001b[39;49m\u001b[43m(\u001b[49m\u001b[38;5;241;43m2\u001b[39;49m\u001b[43m)\u001b[49m\n",
      "\u001b[0;31mTypeError\u001b[0m: 'int' object is not iterable"
     ]
    }
   ],
   "source": [
    "s4 = set(2)"
   ]
  },
  {
   "cell_type": "code",
   "execution_count": 63,
   "id": "7cae2955-e20d-4d59-a65e-8ca4eb43c4e5",
   "metadata": {},
   "outputs": [],
   "source": [
    "l6 = [ 2 , 3 ,4, 5 , 6, 2 , 2, 3, 4, 5, 2,3,4 ,1, 2, 3,4, 5, 6, 3,6,\"akash\", \"sudh\"]"
   ]
  },
  {
   "cell_type": "code",
   "execution_count": 64,
   "id": "233e9914-a751-4816-9e01-9ce702614a38",
   "metadata": {},
   "outputs": [],
   "source": [
    "l6 =set[12]"
   ]
  },
  {
   "cell_type": "code",
   "execution_count": 65,
   "id": "04d9861a-516a-4df6-9bb9-f651bcd30cde",
   "metadata": {},
   "outputs": [
    {
     "data": {
      "text/plain": [
       "set[12]"
      ]
     },
     "execution_count": 65,
     "metadata": {},
     "output_type": "execute_result"
    }
   ],
   "source": [
    "l6"
   ]
  },
  {
   "cell_type": "code",
   "execution_count": 66,
   "id": "fb78af13-a13e-487e-8cf5-a9cb38f19848",
   "metadata": {},
   "outputs": [],
   "source": [
    "l6 = [ 2 , 3 ,4, 5 , 6, 2 , 2, 3, 4, 5, 2,3,4 ,1, 2, 3,4, 5, 6, 3,6,\"akash\", \"sudh\"]"
   ]
  },
  {
   "cell_type": "code",
   "execution_count": 67,
   "id": "81e09cb0-1fd3-46e7-8828-cf8e097e279e",
   "metadata": {},
   "outputs": [
    {
     "ename": "TypeError",
     "evalue": "'int' object is not iterable",
     "output_type": "error",
     "traceback": [
      "\u001b[0;31m---------------------------------------------------------------------------\u001b[0m",
      "\u001b[0;31mTypeError\u001b[0m                                 Traceback (most recent call last)",
      "Cell \u001b[0;32mIn[67], line 1\u001b[0m\n\u001b[0;32m----> 1\u001b[0m l6 \u001b[38;5;241m=\u001b[39m \u001b[38;5;28;43mset\u001b[39;49m\u001b[43m(\u001b[49m\u001b[38;5;241;43m12\u001b[39;49m\u001b[43m)\u001b[49m\n",
      "\u001b[0;31mTypeError\u001b[0m: 'int' object is not iterable"
     ]
    }
   ],
   "source": [
    "l6 = set(12)"
   ]
  },
  {
   "cell_type": "code",
   "execution_count": 68,
   "id": "1ae6fc87-39a7-4fc6-b270-2257e4df1633",
   "metadata": {},
   "outputs": [
    {
     "data": {
      "text/plain": [
       "[2,\n",
       " 3,\n",
       " 4,\n",
       " 5,\n",
       " 6,\n",
       " 2,\n",
       " 2,\n",
       " 3,\n",
       " 4,\n",
       " 5,\n",
       " 2,\n",
       " 3,\n",
       " 4,\n",
       " 1,\n",
       " 2,\n",
       " 3,\n",
       " 4,\n",
       " 5,\n",
       " 6,\n",
       " 3,\n",
       " 6,\n",
       " 'akash',\n",
       " 'sudh']"
      ]
     },
     "execution_count": 68,
     "metadata": {},
     "output_type": "execute_result"
    }
   ],
   "source": [
    "l6"
   ]
  },
  {
   "cell_type": "code",
   "execution_count": 69,
   "id": "57b36eec-00f0-414c-811f-ee4b63c86331",
   "metadata": {},
   "outputs": [],
   "source": [
    "s5 ={ 234 , 45 , 23 , 12 , 567, 45, 2 ,\"abc\", 345 , 232} "
   ]
  },
  {
   "cell_type": "code",
   "execution_count": 70,
   "id": "3926b75f-1756-497a-98b1-06d7b3816ec7",
   "metadata": {},
   "outputs": [
    {
     "data": {
      "text/plain": [
       "{12, 2, 23, 232, 234, 345, 45, 567, 'abc'}"
      ]
     },
     "execution_count": 70,
     "metadata": {},
     "output_type": "execute_result"
    }
   ],
   "source": [
    "s5"
   ]
  },
  {
   "cell_type": "code",
   "execution_count": 71,
   "id": "5a7960ba-4ef1-4450-895d-cdd0ede810cb",
   "metadata": {},
   "outputs": [
    {
     "ename": "TypeError",
     "evalue": "'set' object is not subscriptable",
     "output_type": "error",
     "traceback": [
      "\u001b[0;31m---------------------------------------------------------------------------\u001b[0m",
      "\u001b[0;31mTypeError\u001b[0m                                 Traceback (most recent call last)",
      "Cell \u001b[0;32mIn[71], line 1\u001b[0m\n\u001b[0;32m----> 1\u001b[0m \u001b[43ms5\u001b[49m\u001b[43m[\u001b[49m\u001b[38;5;241;43m0\u001b[39;49m\u001b[43m]\u001b[49m\n",
      "\u001b[0;31mTypeError\u001b[0m: 'set' object is not subscriptable"
     ]
    }
   ],
   "source": [
    "s5[0]"
   ]
  },
  {
   "cell_type": "code",
   "execution_count": 72,
   "id": "473a0fb1-ceef-4614-8905-e54100a14b6c",
   "metadata": {},
   "outputs": [
    {
     "ename": "TypeError",
     "evalue": "'set' object is not subscriptable",
     "output_type": "error",
     "traceback": [
      "\u001b[0;31m---------------------------------------------------------------------------\u001b[0m",
      "\u001b[0;31mTypeError\u001b[0m                                 Traceback (most recent call last)",
      "Cell \u001b[0;32mIn[72], line 1\u001b[0m\n\u001b[0;32m----> 1\u001b[0m \u001b[43ms5\u001b[49m\u001b[43m[\u001b[49m\u001b[43m:\u001b[49m\u001b[43m:\u001b[49m\u001b[38;5;241;43m-\u001b[39;49m\u001b[38;5;241;43m1\u001b[39;49m\u001b[43m]\u001b[49m\n",
      "\u001b[0;31mTypeError\u001b[0m: 'set' object is not subscriptable"
     ]
    }
   ],
   "source": [
    "s5[::-1]"
   ]
  },
  {
   "cell_type": "code",
   "execution_count": 73,
   "id": "6127bdbd-52c8-4dd8-a077-786bbb2e1280",
   "metadata": {},
   "outputs": [],
   "source": [
    "s5.add(4)"
   ]
  },
  {
   "cell_type": "code",
   "execution_count": 74,
   "id": "618bdf6b-608e-4fc6-93af-3d14c3ee7dde",
   "metadata": {},
   "outputs": [
    {
     "data": {
      "text/plain": [
       "{12, 2, 23, 232, 234, 345, 4, 45, 567, 'abc'}"
      ]
     },
     "execution_count": 74,
     "metadata": {},
     "output_type": "execute_result"
    }
   ],
   "source": [
    "s5"
   ]
  },
  {
   "cell_type": "code",
   "execution_count": 75,
   "id": "cd4d50f7-d466-466d-bdce-39d0294994bc",
   "metadata": {},
   "outputs": [],
   "source": [
    "s5.remove(2)"
   ]
  },
  {
   "cell_type": "code",
   "execution_count": 76,
   "id": "c073f590-ae46-46d2-9f82-f611191368c9",
   "metadata": {},
   "outputs": [
    {
     "data": {
      "text/plain": [
       "{12, 23, 232, 234, 345, 4, 45, 567, 'abc'}"
      ]
     },
     "execution_count": 76,
     "metadata": {},
     "output_type": "execute_result"
    }
   ],
   "source": [
    "s5"
   ]
  },
  {
   "cell_type": "code",
   "execution_count": null,
   "id": "30eee98c-7536-42d8-8d39-7d7b6dfd8d85",
   "metadata": {},
   "outputs": [],
   "source": []
  }
 ],
 "metadata": {
  "kernelspec": {
   "display_name": "Python 3 (ipykernel)",
   "language": "python",
   "name": "python3"
  },
  "language_info": {
   "codemirror_mode": {
    "name": "ipython",
    "version": 3
   },
   "file_extension": ".py",
   "mimetype": "text/x-python",
   "name": "python",
   "nbconvert_exporter": "python",
   "pygments_lexer": "ipython3",
   "version": "3.10.8"
  }
 },
 "nbformat": 4,
 "nbformat_minor": 5
}
